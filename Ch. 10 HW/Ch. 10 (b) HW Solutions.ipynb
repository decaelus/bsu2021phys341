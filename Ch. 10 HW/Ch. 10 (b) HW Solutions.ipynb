{
 "cells": [
  {
   "cell_type": "markdown",
   "metadata": {},
   "source": [
    "## 10.25"
   ]
  },
  {
   "cell_type": "markdown",
   "metadata": {},
   "source": [
    "(a) The off-diagonal elements ($I_{\\rm i \\ne j}$) are zero by symmetry.<br><br>  $I_{\\rm xx} = \\int \\rho \\left( y^2 + z^2 \\right) dV = \\int_{\\rm x = -a}^{+a} dx \\int_{\\rm y = -b}^{+b} dy \\int_{\\rm z = -c}^{+c} dz\\ \\rho \\left( y^2 + z^2 \\right) = \\rho \\left( 2a \\right) \\left[ \\frac{2}{3}b^3 \\left(2c\\right) + \\frac{2}{3}c^3 \\left(2b\\right) \\right] = \\frac{1}{3} \\rho 2a\\ 2b\\ 2c \\left[ b^2 + c^2 \\right] = \\boxed{ \\frac{1}{3} M \\left[ b^2 + c^2 \\right] }$.<br><br>  For the other diagonal elements, just change out $b$ and $c$ in the last term."
   ]
  },
  {
   "cell_type": "markdown",
   "metadata": {},
   "source": [
    "(b) Using the parallel axis theorem, we can calculate $I_{\\rm ij}$ for the case that the origin is shifted by $\\vec{\\Delta} = (-a, -b, -c)$, i.e. to one of the cuboid's corners.<br><br>  $I_{\\rm xx} = I_{\\rm xx}^{\\rm CM} + M \\left( b^2 + c^2 \\right) = \\boxed{ \\frac{4}{3} M \\left( b^2 + c^2 \\right) }$, and $I_{\\rm xy} = I_{\\rm xy}^{\\rm CM} - M \\left( -a \\right) \\left( -b \\right) = \\left( 0 \\right) - M a b = \\boxed{ -M a b }$. <br><br>  Symmetry allows us to easily extrapolate and calculate the whole tensor: <br><br> $ {\\bf I} = M \\left| \\begin{array}{ccc} \\frac{4}{3} \\left( b^2 + c^2 \\right) & -ab & -ac \\\\ -ab & \\frac{4}{3} \\left( a^2 + c^2 \\right) & -bc \\\\ -ac & -bc & \\frac{4}{3} \\left( a^2 + b^2 \\right) \\end{array} \\right|.$"
   ]
  },
  {
   "cell_type": "markdown",
   "metadata": {},
   "source": [
    "(c) $\\vec{\\omega} = \\left( \\begin{array}{c} \\omega \\\\ 0 \\\\ 0 \\end{array} \\right)$, and $\\vec{L} = {\\bf I} \\cdot \\vec{\\omega} = \\boxed{ M \\left[ \\frac{4}{3} \\left( b^2 + c^2 \\right) - ab - ac \\right] \\omega }$."
   ]
  },
  {
   "cell_type": "markdown",
   "metadata": {},
   "source": [
    "## 10.32"
   ]
  },
  {
   "cell_type": "markdown",
   "metadata": {},
   "source": [
    "(a) $\\lambda_1 + \\lambda_2 = \\int \\rho \\left( y^2 + z^2 \\right) dV + \\int \\rho \\left( z^2 + x^2 \\right) dV = \\int \\rho \\left( x^2 + y^2 + 2 z^2 \\right) dV = \\int \\rho \\left( x^2 + y^2 \\right) dV + 2 \\int \\rho z^2 dV = \\lambda_3 + 2 \\int \\rho z^2 dV$, and $2 \\int \\rho z^2 dV \\ge 0$. <br>  Therefore $\\lambda_1 + \\lambda_2 \\ge \\lambda_3$."
   ]
  },
  {
   "cell_type": "markdown",
   "metadata": {},
   "source": [
    "(b) $\\lambda_3 = \\lambda_1 + \\lambda_2$ requires $\\int \\rho z^2 dV = 0$, which represents a shape with zero extent along the $z$-direction. An infinitesimally thin disk is an example of such a shape."
   ]
  },
  {
   "cell_type": "markdown",
   "metadata": {},
   "source": [
    "## 10.39"
   ]
  },
  {
   "cell_type": "markdown",
   "metadata": {},
   "source": [
    "We can use Equation (10.83) on p. 394: $\\Omega = \\dfrac{M g R}{\\lambda_3 \\omega}$. For the cone, $\\lambda_3 = \\frac{3}{10} M r^2$, where $r$ is the cone's base radius. $R$ is the distance from the tip to the center of mass along the axis of the cone, and $R = \\frac{3}{4} h$, where $h$ is the cone's height. $\\Omega = \\dfrac{10 g R}{3 r^2 \\omega} = \\dfrac{10 \\left(9.8\\ {\\rm m/s}^2 \\right) \\frac{3}{4} \\left( 10\\ {\\rm cm} \\right)}{3 \\left( 2.5\\ {\\rm cm} \\right)^2 2 \\pi\\left( 1800\\ {\\rm rpm}\\ \\times\\ 1\\ {\\rm min}/60 {\\rm s}\\right)} = \\boxed{ 21\\ {\\rm rad/s} }$, i.e. the top completes three precessions every second."
   ]
  },
  {
   "cell_type": "markdown",
   "metadata": {},
   "source": [
    "## 10.42"
   ]
  },
  {
   "cell_type": "markdown",
   "metadata": {},
   "source": [
    "Using Equation (10.91) from p. 398, which describes the oscillation frequency for the 1-component of the rotation vector, $\\Omega = \\left[ \\dfrac{\\left( \\lambda_3 - \\lambda_2 \\right)\\left( \\lambda_3 - \\lambda_1 \\right)}{\\lambda_1 \\lambda_2} \\omega_3^2 \\right]^{1/2}.$ From our cuboid calculation earlier, we know the moments: $\\lambda_1 = \\frac{1}{3} M \\left( b^2 + c^2 \\right)$, and so on. Thus, $ \\lambda_3 - \\lambda_2 = \\frac{1}{3} M \\left( b^2 - c^2 \\right)$, $\\lambda_3 - \\lambda_1 = \\frac{1}{3} M \\left( a^2 - c^2 \\right)$, and $ \\lambda_1 \\lambda_2 = \\frac{1}{9} M^2 \\left( b^2 + c^2 \\right) \\left( a^2 + c^2 \\right)$. <br><br>  $\\Omega = \\left[ \\dfrac{\\left( b^2 - c^2 \\right)\\left( a^2 - c^2 \\right)}{\\left( b^2 + c^2 \\right) \\left( a^2 + c^2 \\right)} \\omega_3^2 \\right]^{1/2} = \\sqrt{ \\dfrac{\\left( \\left( 20\\ {\\rm cm} \\right)^2 - \\left( 3\\ {\\rm cm} \\right)^2 \\right)\\left( \\left( 30\\ {\\rm cm} \\right)^2 - \\left( 3\\ {\\rm cm} \\right)^2 \\right)}{\\left( \\left( 20\\ {\\rm cm} \\right)^2 + \\left( 3\\ {\\rm cm} \\right)^2 \\right) \\left( \\left( 30\\ {\\rm cm} \\right)^2 + \\left( 3\\ {\\rm cm} \\right)^2 \\right)}} \\left( 180\\ {\\rm rpm} \\right) \\approx \\boxed{ 174\\ {\\rm rpm} }$."
   ]
  },
  {
   "cell_type": "markdown",
   "metadata": {},
   "source": [
    "The answer to the next question is basically the same as the previous problem, except that we take $\\omega_2\\omega_3 \\sim 0$ in Equation (10.89) on p. 397 and follow the same procedure as in the chapter."
   ]
  },
  {
   "cell_type": "markdown",
   "metadata": {},
   "source": [
    "## 10.45"
   ]
  },
  {
   "cell_type": "markdown",
   "metadata": {},
   "source": [
    "For free precession as observed in the body frame, the frequency is $\\Omega_{\\rm b} = \\frac{\\lambda_1 - \\lambda_3}{\\lambda_1} \\omega_3 = \\left( 0.00327 \\right) \\frac{2 \\pi}{1\\ {\\rm day}}$. The corresponding period $P_{\\rm b} = 2\\pi/\\Omega_{\\rm b} = 1\\ {\\rm day}/0.00327 = \\boxed{ 306\\ {\\rm days} }$. <br><br>  From equation (10.118) on p. 414, the precession frequency is $\\Omega_{\\rm s} = \\omega \\dfrac{\\sqrt{\\lambda_3^2 + \\left( \\lambda_1^2 - \\lambda_3^2 \\right) \\sin^2 \\alpha }}{\\lambda_1}$. $\\alpha \\ll 1$, and $\\lambda_3^2 - \\lambda_1^2 \\ll \\lambda_3^2 \\Rightarrow \\Omega_{\\rm s} \\approx \\omega \\dfrac{\\lambda_3}{\\lambda_1} = \\left( 1.00327 \\right)\\ \\omega$, which corresponds to a period $P_{\\rm s} = \\dfrac{2\\pi}{\\left( 1.00327 \\right)\\ \\omega} \\approx \\boxed{ 1\\ {\\rm day} }$."
   ]
  },
  {
   "cell_type": "markdown",
   "metadata": {},
   "source": [
    "## 10.53"
   ]
  },
  {
   "cell_type": "markdown",
   "metadata": {},
   "source": [
    "(a) The solution to the quadratic is $\\Omega = \\dfrac{ -b \\pm \\sqrt{b^2 - 4ac} }{2a}$. For $b^2 \\gg 4ac$, the square root works out to $\\left[ b^2 - 4ac \\right]^{1/2} = b \\left[ 1 - \\dfrac{4ac}{b^2} \\right]^{1/2} \\approx b \\left[ 1 - \\dfrac{2ac}{b^2} \\right]$, so $\\Omega \\approx \\dfrac{ -b \\pm \\left( b - \\frac{2ac}{b} \\right) }{2a} = \\boxed{ \\left( -\\dfrac{c}{b}, -\\dfrac{b}{a} \\right) }$"
   ]
  },
  {
   "cell_type": "markdown",
   "metadata": {},
   "source": [
    "(b) From Equation (10.110) on p. 404, $a = \\lambda_1 \\cos \\theta$, $b = -\\lambda_3 \\omega_3$, and $c = MgR$. Plugging those into the equation above gives us exactly the solutions in Equations (10.111) and (10.112)."
   ]
  }
 ],
 "metadata": {
  "kernelspec": {
   "display_name": "Python 2",
   "language": "python",
   "name": "python2"
  },
  "language_info": {
   "codemirror_mode": {
    "name": "ipython",
    "version": 2
   },
   "file_extension": ".py",
   "mimetype": "text/x-python",
   "name": "python",
   "nbconvert_exporter": "python",
   "pygments_lexer": "ipython2",
   "version": "2.7.3"
  }
 },
 "nbformat": 4,
 "nbformat_minor": 1
}
