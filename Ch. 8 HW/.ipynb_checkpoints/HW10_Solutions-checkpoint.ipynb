{
 "cells": [
  {
   "cell_type": "markdown",
   "metadata": {},
   "source": [
    "#### 8.16"
   ]
  },
  {
   "cell_type": "markdown",
   "metadata": {},
   "source": [
    "For a Keplerian orbit, the relationship between radial distance $r$ and true longitude $\\phi$ is $r(\\phi) = c/(1 + \\epsilon \\cos\\phi)$. For Cartesian coordinates, $x = r \\cos \\phi$ and $y = r \\sin \\phi$. Using these relations, we need to show the orbit is an ellipse for $\\epsilon \\le 1$ or that $\\dfrac{\\left(x + d\\right)^2}{a^2} + \\dfrac{y^2}{b^2} = 1$ (the equation for an ellipse), where $a = \\dfrac{c}{1 - \\epsilon^2}$, $b = \\dfrac{c}{\\sqrt{1 - \\epsilon^2}}$, and $d = a \\epsilon$. Plugging the expressions for $x$ and $y$ in terms of $r$ and $\\phi$ into the ellipse equation:<br><br>  $$ \\begin{eqnarray} 1 &=& \\dfrac{\\left(x + d\\right)^2}{a^2} + \\dfrac{y^2}{b^2} = \\dfrac{\\left(r \\cos \\phi + d\\right)^2}{a^2} + \\dfrac{\\left( r \\sin \\phi \\right)^2}{b^2} \\\\   &=& \\dfrac{r^2 \\cos^2 \\phi}{a^2} + \\dfrac{r^2 \\sin^2 \\phi}{b^2} + \\dfrac{2 d r \\cos \\phi}{a^2} + \\dfrac{d^2}{a^2} \\\\ \\Rightarrow a^2 b^2 &=& b^2 r^2 \\cos^2 \\phi + a^2 r^2 \\sin^2 \\phi + 2 b^2 d r \\cos \\phi + b^2 d^2. \\end{eqnarray} $$  Plugging in the relations for $a$, $b$, $d$, and $r(\\phi)$:  $$ \\begin{eqnarray} \\left( \\dfrac{c}{1 - \\epsilon^2} \\right)^2 \\left( \\dfrac{c}{\\sqrt{1 - \\epsilon^2}} \\right)^2 &=& \\left( \\dfrac{c}{\\sqrt{1 - \\epsilon^2}} \\right)^2 \\left( \\dfrac{c}{1 + \\epsilon \\cos\\phi} \\right)^2 \\cos^2 \\phi + \\left( \\dfrac{c}{1 - \\epsilon^2} \\right)^2 \\left( \\dfrac{c}{1 + \\epsilon \\cos\\phi} \\right)^2 \\sin^2 \\phi \\\\  &+& 2 \\left( \\dfrac{c}{\\sqrt{1 - \\epsilon^2}} \\right)^2 \\left( \\dfrac{c\\epsilon}{1 - \\epsilon^2}\\right) \\left( \\dfrac{c}{1 + \\epsilon \\cos\\phi} \\right) \\cos \\phi + \\left( \\dfrac{c}{\\sqrt{1 - \\epsilon^2}} \\right)^2 \\left( \\dfrac{c\\epsilon}{1 - \\epsilon^2}\\right)^2\\\\  \\Rightarrow 1 &=& \\left( \\dfrac{1 - \\epsilon^2}{1 + \\epsilon \\cos\\phi} \\right)^2 \\cos^2 \\phi + \\left( \\dfrac{\\sqrt{1 - \\epsilon^2}}{1 + \\epsilon \\cos\\phi} \\right)^2 \\sin^2 \\phi + 2 \\epsilon \\left( \\dfrac{\\left( 1 - \\epsilon^2 \\right)\\cos \\phi }{1 + \\epsilon \\cos\\phi} \\right) + \\epsilon^2 \\\\  \\Rightarrow \\left( 1 + \\epsilon \\cos\\phi \\right)^2 &=& \\left( \\cos^2\\phi + \\sin^2\\phi \\right)\\\\                                                    &+& \\epsilon \\left( 2 \\cos\\phi \\right) \\\\                                                    &+& \\epsilon^2 \\left( 1 + 2 \\cos^2\\phi - 2\\cos^2\\phi - \\sin^2\\phi \\right)\\\\                                                    &+& \\epsilon^3 \\left( -2 \\cos\\phi + 2 \\cos\\phi \\right) \\\\                                                    &+& \\epsilon^4 \\left( \\cos^2 \\phi - 2 \\cos^2\\phi + \\cos^2 \\phi \\right)\\\\                                                     \\Rightarrow \\left( 1 + \\epsilon \\cos\\phi \\right)^2 &=& 1 + 2 \\epsilon \\cos\\phi + \\epsilon^2 \\cos^2\\phi = \\left( 1 + \\epsilon \\cos\\phi \\right)^2. \\\\ \\end{eqnarray} $$ $\\blacksquare$"
   ]
  },
  {
   "cell_type": "markdown",
   "metadata": {},
   "source": [
    "#### 8.19"
   ]
  },
  {
   "cell_type": "markdown",
   "metadata": {},
   "source": [
    "The perigee $q = \\dfrac{c}{1 + \\epsilon} = R_{\\rm Earth} + {\\rm 300\\ km}$ and the apogee $Q = \\dfrac{c}{1 - \\epsilon} = R_{\\rm Earth} + {\\rm 3000\\ km}$, so their ratio $\\dfrac{Q}{q} = \\dfrac{1 + \\epsilon}{1 - \\epsilon} = \\dfrac{R_{\\rm Earth} + {\\rm 3000\\ km}}{R_{\\rm Earth} + {\\rm 300\\ km}}$. <br> Solving for $\\epsilon$ gives $\\epsilon = \\dfrac{Q - q}{Q + q} = \\boxed{ 0.1677 }$.<br><br>  With $x/y$-coordinate centered on the Earth (and the Earth has to be at one of the foci of the orbit), the satellite crosses the $y$-axis when $\\phi = \\pi/2$. Using our equation for $r(\\phi) = \\dfrac{c}{1 + \\epsilon \\cos(\\phi = \\pi/2)} = c$. <br> At perigee, the satellite is at $\\phi = 0 \\Rightarrow r = \\dfrac{c}{1 + \\epsilon} = R_{\\rm Earth} + {\\rm 300\\ km} \\Rightarrow c = \\left( R_{\\rm Earth} + {\\rm 300\\ km} \\right) \\left(1 + \\epsilon \\right) = 7800\\ {\\rm km}$. <br>\n",
    "\n",
    "So the height above the Earth's surface $h = 7800\\ {\\rm km} - R_{\\rm Earth} = \\boxed{ 1400\\ {\\rm km} }$."
   ]
  },
  {
   "cell_type": "markdown",
   "metadata": {},
   "source": [
    "#### 8.20"
   ]
  },
  {
   "cell_type": "markdown",
   "metadata": {},
   "source": [
    "Equation (8.48): $c = \\dfrac{\\mathscr{l}^2}{\\gamma \\mu}$ <br> Equation (8.50): $r_{\\rm max} = \\dfrac{c}{1 - \\epsilon} = \\dfrac{\\frac{\\mathscr{l}^2}{\\gamma \\mu}}{1 - \\epsilon} \\Rightarrow \\boxed{ \\epsilon = 1 - \\dfrac{\\frac{\\mathscr{l}^2}{\\gamma \\mu}}{r_{\\rm max}} \\rightarrow 1}$ as $\\mathscr{l} \\rightarrow 0$. <br><br> Also, $\\boxed{ r_{\\rm min} = \\dfrac{c}{1 + \\epsilon} = \\dfrac{\\frac{\\mathscr{l}^2}{\\gamma \\mu}}{1 + \\epsilon} \\rightarrow 0 }$ as $\\mathscr{l} \\rightarrow 0$ and $\\epsilon \\rightarrow 1$.<br><br>  The semi-major axis $a = \\dfrac{c}{1 - \\epsilon^2} = \\frac{\\frac{\\mathscr{l}^2}{\\gamma \\mu}}{1 - \\left( 1 - \\frac{\\mathscr{l}^2}{\\gamma \\mu r_{\\rm max}} \\right)^2} = \\frac{r_{\\rm max}}{2 - \\frac{\\mathscr{l}^2}{\\gamma \\mu r_{\\rm max}}} \\rightarrow \\boxed{ \\frac{r_{\\rm max}}{2} }$ as $\\mathscr{l} \\rightarrow 0$."
   ]
  },
  {
   "cell_type": "markdown",
   "metadata": {},
   "source": [
    "#### 8.28"
   ]
  },
  {
   "cell_type": "markdown",
   "metadata": {},
   "source": [
    "$r(\\phi) = \\dfrac{c}{1 + \\epsilon \\cos \\phi}$, and $c = \\dfrac{\\mathscr{l}^2}{\\gamma \\mu}$. $r = r_{\\rm min}$ when $\\phi = 0$, and parabolic orbit means $\\epsilon = 1$. $\\boxed{ r_{\\rm min} = c/2 }$, which is half the radial distance for a circular orbit, when $\\epsilon = 0$."
   ]
  },
  {
   "cell_type": "markdown",
   "metadata": {},
   "source": [
    "#### 8.29"
   ]
  },
  {
   "cell_type": "markdown",
   "metadata": {},
   "source": [
    "At any instant, the total energy $E$ associated with the Earth's orbit is the sum of its kinetic and potential energies: <br> $E = \\frac{1}{2} m_\\oplus \\upsilon^2 - \\dfrac{G m_\\odot m_\\oplus}{r}$, where I've assumed the Earth's mass $m_\\oplus$ is negligible compared to the Sun's $m_\\odot$.<br><br>  The virial theorem gives us a relationship between the kinetic $T$ and potential $U$ energies of a bound system: $-2 T = U$, which tells us, before the Sun's mass drops, $ m_\\oplus \\upsilon^2 = \\dfrac{G m_\\odot m_\\oplus}{r}$. The instant after the Sun's mass drops, the kinetic energy remains unchanged, but the potential suddenly drops by a factor of two. Also, note that the TOTAL energy is not a constant before and after the mass loss.<br><br>  The new energy $E^\\prime = \\frac{1}{2} m_\\oplus \\upsilon^2 - \\dfrac{G \\left( m_\\odot/2 \\right) m_\\oplus}{r} = \\dfrac{G m_\\odot m_\\oplus}{2 r} - \\dfrac{G m_\\odot m_\\oplus}{2 r} = 0$. So the Earth's orbit becomes a parabola, and the Earth flies off into interstellar space."
   ]
  },
  {
   "cell_type": "markdown",
   "metadata": {},
   "source": [
    "#### 8.30"
   ]
  },
  {
   "cell_type": "markdown",
   "metadata": {},
   "source": [
    "$r(\\phi) = \\dfrac{c}{1 + \\epsilon \\cos \\phi} = \\dfrac{c}{1 + \\cos \\phi}$ if $\\epsilon = 1$.<br><br>   $$ \\begin{eqnarray} r & = & \\dfrac{c}{1 + \\cos \\phi} = \\dfrac{c}{1 + \\frac{x}{r}} \\\\  & \\Rightarrow & r + x = c \\\\  & \\Rightarrow & \\sqrt{x^2 + y^2} + x = c \\\\  & \\Rightarrow & x^2 + y^2 = \\left( c - x \\right)^2 = c^2 - 2 c x + x^2 \\end{eqnarray} $$  $\\Rightarrow \\boxed{ y^2 = c^2 - 2 c x }$ for the parabola."
   ]
  },
  {
   "cell_type": "markdown",
   "metadata": {},
   "source": [
    "$r(\\phi) = \\dfrac{c}{1 + \\epsilon \\cos\\phi}$ with $\\epsilon > 1$. \n",
    "\n",
    "$r = \\dfrac{c}{1 + \\epsilon \\cos\\phi} = \\dfrac{c}{1 + \\epsilon \\frac{x}{r}}$"
   ]
  },
  {
   "cell_type": "markdown",
   "metadata": {},
   "source": [
    "$\\Rightarrow r + \\epsilon x = c$"
   ]
  },
  {
   "cell_type": "markdown",
   "metadata": {},
   "source": [
    "$\\sqrt{x^2 + y^2} + \\epsilon x = c$"
   ]
  },
  {
   "cell_type": "markdown",
   "metadata": {},
   "source": [
    "$\\Rightarrow x^2 + y^2 = \\left( c - \\epsilon x \\right)^2 = \\epsilon^2 x ^2 - 2\\epsilon c\\ x + c^2$"
   ]
  },
  {
   "cell_type": "markdown",
   "metadata": {},
   "source": [
    "$\\Rightarrow \\epsilon^2 x ^2 - 2\\epsilon c\\ x - y^2 = -c^2$"
   ]
  },
  {
   "cell_type": "markdown",
   "metadata": {},
   "source": [
    "Now working backwards from Equation (8.61) in the book:\n",
    "$\\dfrac{\\left( x - \\delta \\right)^2}{\\alpha^2} - \\dfrac{y^2}{\\beta^2} = 1$"
   ]
  },
  {
   "cell_type": "markdown",
   "metadata": {},
   "source": [
    "$\\dfrac{x^2 - 2 \\delta x + \\delta^2}{\\alpha^2} - \\dfrac{y^2}{\\beta^2}$"
   ]
  },
  {
   "cell_type": "markdown",
   "metadata": {},
   "source": [
    "$\\dfrac{\\beta^2 x^2 - 2\\beta^2 \\delta\\ x + \\beta^2 \\delta^2 - \\alpha^2 y^2}{\\alpha^2 \\beta^2} = 1$"
   ]
  },
  {
   "cell_type": "markdown",
   "metadata": {},
   "source": [
    "$\\Rightarrow \\beta^2 x^2 - 2 \\beta^2 \\delta\\ x - \\alpha^2 y^2 = \\left( \\alpha^2 - \\delta^2 \\right)\\beta^2$, which is an equation of the same form as above."
   ]
  }
 ],
 "metadata": {
  "kernelspec": {
   "display_name": "Python 2",
   "language": "python",
   "name": "python2"
  },
  "language_info": {
   "codemirror_mode": {
    "name": "ipython",
    "version": 2
   },
   "file_extension": ".py",
   "mimetype": "text/x-python",
   "name": "python",
   "nbconvert_exporter": "python",
   "pygments_lexer": "ipython2",
   "version": "2.7.3"
  }
 },
 "nbformat": 4,
 "nbformat_minor": 1
}
