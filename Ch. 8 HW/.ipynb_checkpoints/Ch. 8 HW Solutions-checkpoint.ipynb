{
 "cells": [
  {
   "cell_type": "markdown",
   "metadata": {},
   "source": [
    "#### 8.1"
   ]
  },
  {
   "cell_type": "markdown",
   "metadata": {},
   "source": [
    "The positions of masses $m_1$ and $m_2$ relative to an arbitrary but inertial reference are $\\vec{r}_1$ and $\\vec{r}_2$ respectively. The position of the center of mass is $\\vec{R} = \\left( m_1 \\vec{r}_1 + m_2 \\vec{r}_2 \\right)/\\left( m_1 + m_2 \\right)$. The vector pointing from $m_1$ to $m_2$ is $\\vec{r} = \\vec{r}_1 - \\vec{r}_2$. So we need to write $\\vec{r}_1$ and $\\vec{r}_2$ in terms of $\\vec{R}$ and $\\vec{r}$. The total mass $M = m_1 + m_2$.<br><br>  $M \\vec{R} = m_1 \\vec{r}_1 + m_2 \\vec{r}_2 = m_1 \\vec{r}_1 + m_2 \\left( \\vec{r}_1 - \\vec{r} \\right) = M \\vec{r}_1 - m_2 \\vec{r} \\Rightarrow \\boxed{ \\vec{r}_1 = \\vec{R} + m_2 \\vec{r} / M }$. <br><br>   And $ M \\vec{R} = m_1 \\left( \\vec{r} + \\vec{r}_2 \\right) + m_2 \\vec{r}_2 = m_1 \\vec{r} + M \\vec{r}_2 \\Rightarrow \\boxed{ \\vec{r}_2 =  \\vec{R} - m_1 \\vec{r} / M }$.<br><br>  The kinetic energy $T = \\frac{1}{2} m_1 \\dot{r}^2_1 + \\frac{1}{2} m_2 \\dot{r}^2_2 = \\frac{1}{2} m_1 \\left( \\dot{\\vec{R}} + m_2 \\dot{\\vec{r}} / M \\right)^2 + \\frac{1}{2} m_2 \\left( \\dot{\\vec{R}} - m_1 \\dot{\\vec{r}} / M  \\right)^2 = \\frac{1}{2} M \\dot{R}^2 + \\frac{1}{2} \\left( \\frac{m_2 m_1^2 + m_1 m_2^2}{M^2} \\right) \\dot{r}^2 + \\left( \\frac{m_1 m_2 - m_1 m_2}{M} \\right) \\left( \\dot{\\vec{R}} \\cdot \\dot{\\vec{r}} \\right) = \\frac{1}{2} M \\dot{R}^2 + \\frac{1}{2} \\left( \\frac{m_1 m_2 \\left( m_1 + m_2 \\right)}{M^2} \\right) \\dot{r}^2 = \\boxed{ \\frac{1}{2} M \\dot{R}^2 + \\frac{1}{2} \\mu \\dot{r}^2 } $"
   ]
  },
  {
   "cell_type": "markdown",
   "metadata": {},
   "source": [
    "#### 8.3"
   ]
  },
  {
   "cell_type": "markdown",
   "metadata": {},
   "source": [
    "From 8.2, we know the Lagrangian $\\mathscr{L}$ can be written as $\\mathscr{L} = \\mathscr{L}_{\\rm CM } + \\mathscr{L}_{\\rm rel} = \\frac{1}{2} M \\dot{R}^2 - U(R) + \\frac{1}{2} \\mu \\dot{r}^2 - U(r)$. The system is one dimensional, with CM position $Y$ and the distance between the two masses $y$. For this spring system, $U(R) = M g Y$, and $U(r) = \\frac{1}{2} k \\Delta^2$, where $\\Delta$ is the displacement from equilibrium for the spring. $\\Delta = y - l$, where $l$ is the equilibrium length of the spring. Thus, $\\mathscr{L} = \\frac{1}{2} M \\dot{R}^2 - M g Y + \\frac{1}{2} \\mu \\dot{r}^2 - \\frac{1}{2} k \\left( y - l \\right)^2$. The E-L Eqn gives <br><br>  \\begin{eqnarray}  \\frac{\\partial \\mathscr{L}}{\\partial Y} & = &\\frac{d}{dt} \\frac{\\partial \\mathscr{L}}{\\partial \\dot{Y}}: & -M g = M \\ddot{Y}&\\\\  \\frac{\\partial \\mathscr{L}}{\\partial y} & = &\\frac{d}{dt} \\frac{\\partial \\mathscr{L}}{\\partial \\dot{y}}: & -k y = \\mu \\ddot{y} - k l&.  \\end{eqnarray}  The solution to the first equation is $Y(t) = -\\frac{1}{2} g t^2 + V_0 t + Y_0$. $Y_0 = \\left( m_1 y_1 + m_2 y_2 \\right)/M = \\left( \\frac{m_1}{M} \\right) l$, and $ V_0 = \\left( m_1 v_1 + m_2 v_2 \\right)/M = \\left( \\frac{m_1}{M} \\right) v_0$. <br><br>  The solution to the second is $ y(t) = A \\sin (\\omega_0 t) + B \\cos (\\omega_0 t) + l$ (with $\\omega_0 = \\sqrt{ k / \\mu} $). Given that $y(t = 0) = l$ and $\\dot{y}(t = 0) = v_0$, $B = 0$ and $ A = v_0/\\omega_0 $."
   ]
  },
  {
   "cell_type": "markdown",
   "metadata": {},
   "source": [
    "#### 8.7"
   ]
  },
  {
   "cell_type": "markdown",
   "metadata": {},
   "source": [
    "(a) If $m_1$ orbits a fixed $m_2$ in a circular orbit with distance $r$, then the centripetal acceleration $v^2/r = G m_2/r^2 \\Rightarrow v = \\sqrt{ G m_2/r }$, where $v$ is the tangential velocity.<br><br>  The time $P$ to circle $m_2$ is the circle's circumference divided by the velocity $P = 2 \\pi r/v = 2 \\pi \\sqrt{\\frac{r^3}{G m_2}}$."
   ]
  },
  {
   "cell_type": "markdown",
   "metadata": {},
   "source": [
    "(b) Using the separation of the Lagrangian and mmeasuring motions relative to the CM, $\\mathscr{L} = \\frac{1}{2} \\mu \\dot{\\vec{r}} \\cdot \\dot{\\vec{r}} - G m_1 m_2/r = \\frac{1}{2} \\mu \\left( \\dot{r}^2 + r^2\\dot{\\phi}^2 \\right) - G m_1 m_2/r = \\frac{1}{2} \\mu r^2\\dot{\\phi}^2 - G m_1 m_2/r $ ($ \\dot{r} = 0 $ for a circular orbit). <br><br>  Applying the E-L eqn gives $\\mu r \\dot{\\phi}^2 + G m_1 m_2/r^2 = 0 \\Rightarrow r \\dot{\\phi}^2 = \\frac{G m_1 m_2}{\\mu r^2}$. The tangential velocity $v = r \\dot{\\phi} \\Rightarrow r \\dot{\\phi}^2 = v^2/r$, so $v = \\sqrt{ \\frac{G \\left( m_1 + m_2 \\right)}{r^3} }$. <br><br>  Again, $P = 2 \\pi \\sqrt{ \\frac{r^3}{G \\left( m_1 + m_2 \\right)} }$. For $m_2 \\gg m_1$, $P \\approx \\sqrt{ \\frac{r^3}{G m_2} }$, consistent with the previous problem and indicating the previous problem is represents this limit."
   ]
  },
  {
   "cell_type": "markdown",
   "metadata": {},
   "source": [
    "(c) If we replace the Earth in its orbit (with a period $P$) with another Sun (giving a period $P^\\prime$), then $P^\\prime/P = \\sqrt{ \\frac{m_\\odot + m_\\oplus}{m_\\odot + m_\\odot} } \\approx \\sqrt{ \\frac{m_\\odot}{2 m_\\odot} } = \\frac{1}{\\sqrt{2}}$."
   ]
  },
  {
   "cell_type": "markdown",
   "metadata": {},
   "source": [
    "#### 8.15"
   ]
  },
  {
   "cell_type": "markdown",
   "metadata": {},
   "source": [
    "Contrary to p. 312, we'll take $M = M_{\\rm s} + M_{\\rm p} \\Rightarrow \\boxed{ \\tau^2 = \\frac{4 \\pi^2}{G \\left( M_{\\rm s} + M_{\\rm p} \\right)} a^3 }$. The following table compares the actual orbital periods $\\tau_{\\rm act}$ based on this expression to the approximate period $\\tau_{\\rm approx}$ for each planet."
   ]
  },
  {
   "cell_type": "code",
   "execution_count": 2,
   "metadata": {},
   "outputs": [
    {
     "name": "stdout",
     "output_type": "stream",
     "text": [
      "Mercury's actual period: 0.240846, approx period: 0.240846, diff: 0.000000\n",
      "Venus's actual period: 0.610951, approx period: 0.610952, diff: 0.000001\n",
      "Earth's actual period: 1.000017, approx period: 1.000019, diff: 0.000002\n",
      "Mars's actual period: 1.881419, approx period: 1.881420, diff: 0.000000\n",
      "Jupiter's actual period: 11.852390, approx period: 11.858048, diff: 0.000477\n",
      "Saturn's actual period: 29.657297, approx period: 29.661535, diff: 0.000143\n",
      "Uranus's actual period: 84.059310, approx period: 84.061146, diff: 0.000022\n",
      "Neptune's actual period: 164.898482, approx period: 164.902729, diff: 0.000026\n"
     ]
    },
    {
     "data": {
      "image/png": "[encoded data removed]",
      "text/plain": [
       "<Figure size 432x288 with 1 Axes>"
      ]
     },
     "metadata": {},
     "output_type": "display_data"
    }
   ],
   "source": [
    "%matplotlib inline\n",
    "\n",
    "import numpy as np\n",
    "import astropy.units as u\n",
    "import astropy.constants as cst\n",
    "import pylab as pl\n",
    "\n",
    "def actual_period(Mp, a, Ms = 1.0*u.solMass):\n",
    "    return np.sqrt(4.*np.pi**2/(cst.G*(Ms + Mp))*a**3)\n",
    "\n",
    "def approx_period(Mp, a, Ms = 1.0*u.solMass):\n",
    "    return np.sqrt(4.*np.pi**2/(cst.G*Ms)*a**3)\n",
    "\n",
    "names = [\"Mercury\", \"Venus\", \"Earth\", \"Mars\", \"Jupiter\", \"Saturn\", \"Uranus\", \"Neptune\"]\n",
    "masses = [0.055, 0.815, 1.0, 0.107, 318., 95.16, 14.54, 17.15]*cst.M_earth\n",
    "semi = [0.387098, 0.72, 1.0, 1.524, 5.2, 9.5820172, 19.189253, 30.0709]*u.AU\n",
    "\n",
    "actual_periods = actual_period(masses, semi)\n",
    "approx_periods = approx_period(masses, semi)\n",
    "\n",
    "for name, tau_act, tau_approx in zip(names, (actual_periods.to('year')).value, (approx_periods.to('year')).value):\n",
    "    print(\"%s's actual period: %f, approx period: %f, diff: %f\" % (name, tau_act, tau_approx,\n",
    "                                                                      (tau_approx - tau_act)/tau_approx))\n",
    "\n",
    "frac = (approx_periods.to('year').value - actual_periods.to('year').value)/actual_periods.to('year').value\n",
    "pl.plot(semi.value, frac*100., marker='o', markersize=10, ls='')\n",
    "pl.ylabel(\"%$\\\\left( \\\\tau_{\\\\rm approx} - \\\\tau_{\\\\rm act} \\\\right)/\\\\tau_{\\\\rm act}$\", fontsize=28)\n",
    "pl.xlabel(\"$a$ (AU)\", fontsize=32)\n",
    "pl.tick_params(axis='both', which='major', labelsize=18)"
   ]
  },
  {
   "cell_type": "markdown",
   "metadata": {},
   "source": [
    "#### 8.20"
   ]
  },
  {
   "cell_type": "markdown",
   "metadata": {},
   "source": [
    "Equation (8.48): $c = \\dfrac{\\mathscr{l}^2}{\\gamma \\mu}$ <br> Equation (8.50): $r_{\\rm max} = \\dfrac{c}{1 - \\epsilon} = \\dfrac{\\frac{\\mathscr{l}^2}{\\gamma \\mu}}{1 - \\epsilon} \\Rightarrow \\boxed{ \\epsilon = 1 - \\dfrac{\\frac{\\mathscr{l}^2}{\\gamma \\mu}}{r_{\\rm max}} \\rightarrow 1}$ as $\\mathscr{l} \\rightarrow 0$. <br><br> Also, $\\boxed{ r_{\\rm min} = \\dfrac{c}{1 + \\epsilon} = \\dfrac{\\frac{\\mathscr{l}^2}{\\gamma \\mu}}{1 + \\epsilon} \\rightarrow 0 }$ as $\\mathscr{l} \\rightarrow 0$ and $\\epsilon \\rightarrow 1$.<br><br>  The semi-major axis $a = \\dfrac{c}{1 - \\epsilon^2} = \\frac{\\frac{\\mathscr{l}^2}{\\gamma \\mu}}{1 - \\left( 1 - \\frac{\\mathscr{l}^2}{\\gamma \\mu r_{\\rm max}} \\right)^2} = \\frac{r_{\\rm max}}{2 - \\frac{\\mathscr{l}^2}{\\gamma \\mu r_{\\rm max}}} \\rightarrow \\boxed{ \\frac{r_{\\rm max}}{2} }$ as $\\mathscr{l} \\rightarrow 0$."
   ]
  },
  {
   "cell_type": "markdown",
   "metadata": {},
   "source": [
    "#### 8.29"
   ]
  },
  {
   "cell_type": "markdown",
   "metadata": {},
   "source": [
    "At any instant, the total energy $E$ associated with the Earth's orbit is the sum of its kinetic and potential energies: <br> $E = \\frac{1}{2} m_\\oplus \\upsilon^2 - \\dfrac{G m_\\odot m_\\oplus}{r}$, where I've assumed the Earth's mass $m_\\oplus$ is negligible compared to the Sun's $m_\\odot$.<br><br>  The virial theorem gives us a relationship between the kinetic $T$ and potential $U$ energies of a bound system: $-2 T = U$, which tells us, before the Sun's mass drops, $ m_\\oplus \\upsilon^2 = \\dfrac{G m_\\odot m_\\oplus}{r}$. The instant after the Sun's mass drops, the kinetic energy remains unchanged, but the potential suddenly drops by a factor of two. Also, note that the TOTAL energy is not a constant before and after the mass loss.<br><br>  The new energy $E^\\prime = \\frac{1}{2} m_\\oplus \\upsilon^2 - \\dfrac{G \\left( m_\\odot/2 \\right) m_\\oplus}{r} = \\dfrac{G m_\\odot m_\\oplus}{2 r} - \\dfrac{G m_\\odot m_\\oplus}{2 r} = 0$. So the Earth's orbit becomes a parabola, and the Earth flies off into interstellar space."
   ]
  },
  {
   "cell_type": "markdown",
   "metadata": {},
   "source": [
    "#### 8.32"
   ]
  },
  {
   "cell_type": "markdown",
   "metadata": {},
   "source": [
    "If the orbit is circular, the orbital distance $r$ is a constant, and so the centrifugal acceleration $a_{\\rm centrifugal}$ must exactly balance the gravitational acceleration $g$:"
   ]
  },
  {
   "cell_type": "markdown",
   "metadata": {},
   "source": [
    "$a_{\\rm centrifugal} = g \\Rightarrow \\dfrac{\\upsilon^2}{r} = \\dfrac{G M}{r^2}$"
   ]
  },
  {
   "cell_type": "markdown",
   "metadata": {},
   "source": [
    "Solving for $\\upsilon$ in terms of $r$ gives:\n",
    "$$\n",
    "\\boxed{ \\upsilon = \\sqrt{\\dfrac{GM}{r}} }.\n",
    "$$"
   ]
  }
 ],
 "metadata": {
  "kernelspec": {
   "display_name": "Python 2",
   "language": "python",
   "name": "python2"
  },
  "language_info": {
   "codemirror_mode": {
    "name": "ipython",
    "version": 2
   },
   "file_extension": ".py",
   "mimetype": "text/x-python",
   "name": "python",
   "nbconvert_exporter": "python",
   "pygments_lexer": "ipython2",
   "version": "2.7.3"
  }
 },
 "nbformat": 4,
 "nbformat_minor": 1
}
