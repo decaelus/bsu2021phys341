{
 "cells": [
  {
   "cell_type": "markdown",
   "metadata": {},
   "source": [
    "## *1.) 8.1"
   ]
  },
  {
   "cell_type": "markdown",
   "metadata": {},
   "source": [
    "#### The positions of masses $m_1$ and $m_2$ relative to an arbitrary but inertial reference are $\\vec{r}_1$ and $\\vec{r}_2$ respectively. The position of the center of mass is $\\vec{R} = \\left( m_1 \\vec{r}_1 + m_2 \\vec{r}_2 \\right)/\\left( m_1 + m_2 \\right)$. The vector pointing from $m_1$ to $m_2$ is $\\vec{r} = \\vec{r}_1 - \\vec{r}_2$. So we need to write $\\vec{r}_1$ and $\\vec{r}_2$ in terms of $\\vec{R}$ and $\\vec{r}$. The total mass $M = m_1 + m_2$.<br><br>  $M \\vec{R} = m_1 \\vec{r}_1 + m_2 \\vec{r}_2 = m_1 \\vec{r}_1 + m_2 \\left( \\vec{r}_1 - \\vec{r} \\right) = M \\vec{r}_1 - m_2 \\vec{r} \\Rightarrow \\boxed{ \\vec{r}_1 = \\vec{R} + m_2 \\vec{r} / M }$. <br><br>   And $ M \\vec{R} = m_1 \\left( \\vec{r} + \\vec{r}_2 \\right) + m_2 \\vec{r}_2 = m_1 \\vec{r} + M \\vec{r}_2 \\Rightarrow \\boxed{ \\vec{r}_2 =  \\vec{R} - m_1 \\vec{r} / M }$.<br><br>  The kinetic energy $T = \\frac{1}{2} m_1 \\dot{r}^2_1 + \\frac{1}{2} m_2 \\dot{r}^2_2 = \\frac{1}{2} m_1 \\left( \\dot{\\vec{R}} + m_2 \\dot{\\vec{r}} / M \\right)^2 + \\frac{1}{2} m_2 \\left( \\dot{\\vec{R}} - m_1 \\dot{\\vec{r}} / M  \\right)^2 = \\frac{1}{2} M \\dot{R}^2 + \\frac{1}{2} \\left( \\frac{m_2 m_1^2 + m_1 m_2^2}{M^2} \\right) \\dot{r}^2 + \\left( \\frac{m_1 m_2 - m_1 m_2}{M} \\right) \\left( \\dot{\\vec{R}} \\cdot \\dot{\\vec{r}} \\right) = \\frac{1}{2} M \\dot{R}^2 + \\frac{1}{2} \\left( \\frac{m_1 m_2 \\left( m_1 + m_2 \\right)}{M^2} \\right) \\dot{r}^2 = \\boxed{ \\frac{1}{2} M \\dot{R}^2 + \\frac{1}{2} \\mu \\dot{r}^2 } $"
   ]
  },
  {
   "cell_type": "markdown",
   "metadata": {},
   "source": [
    "## 2.) 8.3"
   ]
  },
  {
   "cell_type": "markdown",
   "metadata": {},
   "source": [
    "#### From 8.2, we know the Lagrangian $\\mathscr{L}$ can be written as $\\mathscr{L} = \\mathscr{L}_{\\rm CM } + \\mathscr{L}_{\\rm rel} = \\frac{1}{2} M \\dot{R}^2 - U(R) + \\frac{1}{2} \\mu \\dot{r}^2 - U(r)$. The system is one dimensional, with CM position $Y$ and the distance between the two masses $y$. For this spring system, $U(R) = M g Y$, and $U(r) = \\frac{1}{2} k \\Delta^2$, where $\\Delta$ is the displacement from equilibrium for the spring. $\\Delta = y - l$, where $l$ is the equilibrium length of the spring. Thus, $\\mathscr{L} = \\frac{1}{2} M \\dot{R}^2 - M g Y + \\frac{1}{2} \\mu \\dot{r}^2 - \\frac{1}{2} k \\left( y - l \\right)^2$. The E-L Eqn gives <br><br>  \\begin{eqnarray}  \\frac{\\partial \\mathscr{L}}{\\partial Y} & = &\\frac{d}{dt} \\frac{\\partial \\mathscr{L}}{\\partial \\dot{Y}}: & -M g = M \\ddot{Y}&\\\\  \\frac{\\partial \\mathscr{L}}{\\partial y} & = &\\frac{d}{dt} \\frac{\\partial \\mathscr{L}}{\\partial \\dot{y}}: & -k y = \\mu \\ddot{y} - k l&.  \\end{eqnarray}  The solution to the first equation is $Y(t) = -\\frac{1}{2} g t^2 + V_0 t + Y_0$. $Y_0 = \\left( m_1 y_1 + m_2 y_2 \\right)/M = \\left( \\frac{m_2}{M} \\right) l$, and $ V_0 = \\left( m_1 v_1 + m_2 v_2 \\right)/M = \\left( \\frac{m_2}{M} \\right) v_0$. <br><br>  The solution to the second is $ y(t) = A \\sin (\\omega_0 t) + B \\cos (\\omega_0 t) + l$ (with $\\omega_0 = \\sqrt{ k / \\mu} $). Given that $y(t = 0) = l$ and $\\dot{y}(t = 0) = v_0$, $B = 0$ and $ A = v_0/\\omega_0 $."
   ]
  },
  {
   "cell_type": "markdown",
   "metadata": {},
   "source": [
    "## *3.) 8.7"
   ]
  },
  {
   "cell_type": "markdown",
   "metadata": {},
   "source": [
    "#### (a) If $m_1$ orbits a fixed $m_2$ in a circular orbit with distance $r$, then the centripetal acceleration $v^2/r = G m_2/r^2 \\Rightarrow v = \\sqrt{ G m_2/r }$, where $v$ is the tangential velocity.<br><br>  The time $P$ to circle $m_2$ is the circle's circumference divided by the velocity $P = 2 \\pi r/v = 2 \\pi \\sqrt{\\frac{r^3}{G m_2}}$."
   ]
  },
  {
   "cell_type": "markdown",
   "metadata": {},
   "source": [
    "#### (b) Using the separation of the Lagrangian and mmeasuring motions relative to the CM, $\\mathscr{L} = \\frac{1}{2} \\mu \\dot{\\vec{r}} \\cdot \\dot{\\vec{r}} - G m_1 m_2/r = \\frac{1}{2} \\mu \\left( \\dot{r}^2 + r^2\\dot{\\phi}^2 \\right) - G m_1 m_2/r = \\frac{1}{2} \\mu r^2\\dot{\\phi}^2 - G m_1 m_2/r $ ($ \\dot{r} = 0 $ for a circular orbit). <br><br>  Applying the E-L eqn gives $\\mu r \\dot{\\phi}^2 + G m_1 m_2/r^2 = 0 \\Rightarrow r \\dot{\\phi}^2 = \\frac{G m_1 m_2}{\\mu r^2}$. The tangential velocity $v = r \\dot{\\phi} \\Rightarrow r \\dot{\\phi}^2 = v^2/r$, so $v = \\sqrt{ \\frac{G \\left( m_1 + m_2 \\right)}{r^3} }$. <br><br>  Again, $P = 2 \\pi \\sqrt{ \\frac{r^3}{G \\left( m_1 + m_2 \\right)} }$. For $m_2 \\gg m_1$, $P \\approx \\sqrt{ \\frac{r^3}{G m_2} }$, consistent with the previous problem and indicating the previous problem is represents this limit."
   ]
  },
  {
   "cell_type": "markdown",
   "metadata": {},
   "source": [
    "#### (c) If we replace the Earth in its orbit (with a period $P$) with another Sun (giving a period $P^\\prime$), then $P^\\prime/P = \\sqrt{ \\frac{m_\\odot + m_\\oplus}{m_\\odot + m_\\odot} } \\approx \\sqrt{ \\frac{m_\\odot}{2 m_\\odot} } = \\frac{1}{\\sqrt{2}}$."
   ]
  },
  {
   "cell_type": "markdown",
   "metadata": {},
   "source": [
    "## 4.) 8.11"
   ]
  },
  {
   "cell_type": "markdown",
   "metadata": {},
   "source": [
    "#### Using results from previous problems, $\\mathscr{L} = \\frac{1}{2} \\mu \\dot{\\vec{r}} \\cdot \\dot{\\vec{r}} - \\frac{1}{2} k r^2 = \\frac{1}{2} \\mu \\left( \\dot{x}^2 + \\dot{y}^2 \\right) - \\frac{1}{2} k \\left( x^2 + y^2 \\right)$. E-L Eqn gives $\\ddot{x} = -\\omega x$ and $ \\ddot{y} = -\\omega y $. Taking solutions $x = A \\cos(\\omega t) + B \\sin(\\omega t)$ and $y = C \\cos(\\omega t) + D \\sin(\\omega t)$.  $\\cos$ and $\\sin$ are linearly independent, so we can treat them as two unknowns $u$ and $v$, giving the following augmented matrix: $$   \\left[\\begin{array}{rr|r}     A & B & x\\\\     C & D & y   \\end{array}\\right] $$  We'll use row reduction, giving $$   \\left[\\begin{array}{rr|r}     1 & 0 & \\frac{D x - B y}{A D - B C}\\\\     0 & 1 & \\frac{C x - A y}{A D - B C}   \\end{array}\\right] $$  or $\\cos(\\omega t) = \\frac{D x - B y}{A D - B C}$ and $\\sin(\\omega t) = \\frac{C x - A y}{A D - B C}$. Squaring both and adding them, we can re-arrange to give $\\left( A D - B C \\right)^2 = \\left( D x - B y \\right)^2 + \\left( C x - A y \\right)^2 = \\left( D^2 + C^2 \\right) x^2 + \\left( B^2 + A^2 \\right) y^2 - 2\\left( AC + BD \\right) x y$.<br><br>  This expression looks a lot like the required expression for an ellipse $ a x^2 + 2bxy + c y^2 = k^2 $, with $ac > b^2$, so we need to show that (1) $ AC + BD \\le 0 $ to make the cross-term positive overall and (2) $\\left( D^2 + C^2 \\right) \\left( B^2 + A^2 \\right) > -\\left( AC + BD \\right)$. <br><br>  For an elliptical orbit, and we can always choose a time $t$ such that $x(t) = A$ and $y(t) = C = 0$. At a time such that $\\omega t = \\pi/2$, $x(t) = B = 0$, and $y(t) = D$. Thus, $ AC + BD = 0 $, and $\\left( D^2 + C^2 \\right) \\left( B^2 + A^2 \\right) = D^2 A^2 > 0$."
   ]
  },
  {
   "cell_type": "markdown",
   "metadata": {},
   "source": [
    "## 5.) 8.12"
   ]
  },
  {
   "cell_type": "markdown",
   "metadata": {},
   "source": [
    "#### (a) The effective potential from (8.32) is $U_{\\rm eff}(r) = -\\frac{G m_1 m_2}{r} + \\frac{l^2}{2\\mu r^2}$. To ensure no radial motion, the effective force in the radial direction must be zero, i.e. $\\frac{d U_{\\rm eff}}{dr} = 0 = \\frac{G m_1 m_2}{r^2} - \\frac{l^2}{\\mu r^3} \\Rightarrow G m_1 m_2 = \\frac{l^2}{\\mu r} \\Rightarrow \\boxed{ r_0 = \\frac{ l^2(m_1 + m_2)}{G \\left( m_1 m_2 \\right)^2} }$."
   ]
  },
  {
   "cell_type": "markdown",
   "metadata": {},
   "source": [
    "#### (b) Using the $r_0$ expression, we can re-write $U_{\\rm eff} = -\\frac{G m_1 m_2}{r} \\left( 1 - \\frac{r_0}{2 r} \\right)$. <br><br>  Taking the relationship between radial acceleration and the radial derivative of the effective potential: $\\mu \\ddot{r} = -U_{\\rm eff}^\\prime = -\\frac{G m_1 m_2}{r^2}  \\left( 1 - \\frac{r_0}{r} \\right)$. If $r = r_0 + \\Delta r$ with $\\Delta r \\ll r_0$, $-U_{\\rm eff}^\\prime (r) \\approx -U_{\\rm eff}^\\prime(r_0) - U_{\\rm eff}^{\\prime \\prime}(r_0) \\Delta r = -\\left[ \\frac{G m_1 m_2}{r} \\left( 1 - \\frac{r_0}{r} \\right) \\right]_{r_0} + \\left[ \\frac{G m_1 m_2}{r^2} \\left(2 - 3 \\frac{r_0}{r} \\right) \\right]_{r_0} \\Delta r = (0) - \\left( \\frac{G m_1 m_2}{r_0^3} \\right) \\Delta r$.  <br><br>  Since $r_0$ is constant, $\\mu \\ddot{r} = \\mu \\ddot{\\Delta r} \\approx - \\left( \\frac{G m_1 m_2}{r_0^3} \\right) \\Delta r$, which represents a harmonic oscillator with frequency $\\boxed{ \\omega = \\sqrt{ \\frac{G \\left( m_1 + m_2 \\right)}{r_0^3} } }$, exactly the same as the orbital frequency."
   ]
  },
  {
   "cell_type": "markdown",
   "metadata": {},
   "source": [
    "## *6.) 8.15"
   ]
  },
  {
   "cell_type": "markdown",
   "metadata": {},
   "source": [
    "#### Contrary to p. 312, we'll take $M = M_{\\rm s} + M_{\\rm p} \\Rightarrow \\boxed{ \\tau^2 = \\frac{4 \\pi^2}{G \\left( M_{\\rm s} + M_{\\rm p} \\right)} a^3 }$. The following table compares the actual orbital periods $\\tau_{\\rm act}$ based on this expression to the approximate period $\\tau_{\\rm approx}$ for each planet."
   ]
  },
  {
   "cell_type": "code",
   "execution_count": 56,
   "metadata": {
    "collapsed": false
   },
   "outputs": [
    {
     "name": "stdout",
     "output_type": "stream",
     "text": [
      "Mercury's actual period: 0.240813, approx period: 0.240813, diff: 0.000000\n",
      "Venus's actual period: 0.610866, approx period: 0.610867, diff: 0.000001\n",
      "Earth's actual period: 0.999878, approx period: 0.999880, diff: 0.000002\n",
      "Mars's actual period: 1.881158, approx period: 1.881158, diff: 0.000000\n",
      "Jupiter's actual period: 11.850742, approx period: 11.856400, diff: 0.000477\n",
      "Saturn's actual period: 29.653174, approx period: 29.657411, diff: 0.000143\n",
      "Uranus's actual period: 84.047623, approx period: 84.049458, diff: 0.000022\n",
      "Neptune's actual period: 164.875555, approx period: 164.879801, diff: 0.000026\n"
     ]
    },
    {
     "data": {
      "image/png": "[encoded data removed]",
      "text/plain": [
       "<matplotlib.figure.Figure at 0x10a16e160>"
      ]
     },
     "metadata": {},
     "output_type": "display_data"
    }
   ],
   "source": [
    "%matplotlib inline\n",
    "\n",
    "import numpy as np\n",
    "import astropy.units as u\n",
    "import astropy.constants as cst\n",
    "import pylab as pl\n",
    "\n",
    "def actual_period(Mp, a, Ms = 1.0*u.solMass):\n",
    "    return np.sqrt(4.*np.pi**2/(cst.G*(Ms + Mp))*a**3)\n",
    "\n",
    "def approx_period(Mp, a, Ms = 1.0*u.solMass):\n",
    "    return np.sqrt(4.*np.pi**2/(cst.G*Ms)*a**3)\n",
    "\n",
    "names = [\"Mercury\", \"Venus\", \"Earth\", \"Mars\", \"Jupiter\", \"Saturn\", \"Uranus\", \"Neptune\"]\n",
    "masses = [0.055, 0.815, 1.0, 0.107, 318., 95.16, 14.54, 17.15]*cst.M_earth\n",
    "semi = [0.387098, 0.72, 1.0, 1.524, 5.2, 9.5820172, 19.189253, 30.0709]*u.AU\n",
    "\n",
    "actual_periods = actual_period(masses, semi)\n",
    "approx_periods = approx_period(masses, semi)\n",
    "\n",
    "for name, tau_act, tau_approx in zip(names, (actual_periods.to('year')).value, (approx_periods.to('year')).value):\n",
    "    print(\"%s's actual period: %f, approx period: %f, diff: %f\" % (name, tau_act, tau_approx,\n",
    "                                                                      (tau_approx - tau_act)/tau_approx))\n",
    "\n",
    "frac = (approx_periods.to('year').value - actual_periods.to('year').value)/actual_periods.to('year').value\n",
    "pl.plot(semi.value, frac*100., marker='o', markersize=10, ls='')\n",
    "pl.ylabel(\"%$\\\\left( \\\\tau_{\\\\rm approx} - \\\\tau_{\\\\rm act} \\\\right)/\\\\tau_{\\\\rm act}$\", fontsize=28)\n",
    "pl.xlabel(\"$a$ (AU)\", fontsize=32)\n",
    "pl.tick_params(axis='both', which='major', labelsize=18)"
   ]
  }
 ],
 "metadata": {
  "kernelspec": {
   "display_name": "Python 2",
   "language": "python",
   "name": "python2"
  },
  "language_info": {
   "codemirror_mode": {
    "name": "ipython",
    "version": 2
   },
   "file_extension": ".py",
   "mimetype": "text/x-python",
   "name": "python",
   "nbconvert_exporter": "python",
   "pygments_lexer": "ipython2",
   "version": "2.7.11"
  }
 },
 "nbformat": 4,
 "nbformat_minor": 0
}
