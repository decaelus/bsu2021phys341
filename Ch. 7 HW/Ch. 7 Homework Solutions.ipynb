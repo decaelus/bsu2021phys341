{
 "cells": [
  {
   "cell_type": "markdown",
   "metadata": {},
   "source": [
    "#### 7.3"
   ]
  },
  {
   "cell_type": "markdown",
   "metadata": {},
   "source": [
    "$\\mathscr{L} = T - U = \\frac{1}{2}m\\left( \\dot{x}^2 + \\dot{y}^2 \\right) - \\frac{1}{2}k \\left( x^2 + y^2 \\right)$<br> $\\frac{\\partial \\mathscr{L}}{\\partial x} = \\frac{d}{dt} \\frac{\\partial \\mathscr{L}}{\\partial \\dot{x}} \\Rightarrow \\boxed{ -k x = m \\ddot{x} }$, a harmonic oscillation in $x$. The solution for the y-coordinate is the same."
   ]
  },
  {
   "cell_type": "markdown",
   "metadata": {},
   "source": [
    "#### 7.14"
   ]
  },
  {
   "cell_type": "markdown",
   "metadata": {},
   "source": [
    "$\\mathscr{L} = T - U = \\frac{1}{2} m \\dot{x}^2 + \\frac{1}{2} I \\omega^2 + mgx$. <br><br>   ($U = -mgx$ because the yo-yo starts at $x = 0$ and accelerates into positive x.) <br><br>  We're told $I = \\frac{1}{2} m R^2$ for a uniform disc, so $\\mathscr{L} = \\frac{1}{2} m \\dot{x}^2 + \\frac{1}{4} m R^2 \\omega^2 + mgx$. <br><br>  Since the yo-yo is rolling without slipping, the rate at it falls must be equal to the rate at which it rolls, i.e. $R \\omega = \\dot{x} \\Rightarrow \\mathscr{L} = \\frac{1}{2} m \\dot{x}^2 + \\frac{1}{4} m \\dot{x}^2 + mgx = \\frac{3}{4} m \\dot{x}^2 + mgx$. <br><br>  Applying Euler-Lagrange: $m g = \\frac{3}{2} m \\ddot{x} \\Rightarrow \\boxed{ \\ddot{x} = \\frac{2}{3} g }$."
   ]
  },
  {
   "cell_type": "markdown",
   "metadata": {},
   "source": [
    "#### 7.17"
   ]
  },
  {
   "cell_type": "markdown",
   "metadata": {},
   "source": [
    "The total length of the string connecting the masses $l = x + y = \\mathrm{const} \\Rightarrow y = l - x$ and $\\dot{y} = -\\dot{x}$. Moreover, the pulley turns without slipping, i.e. $R \\omega = \\dot{x}$. <br><br>  $\\mathscr{L} = \\frac{1}{2} m_1 \\dot{x}^2 + \\frac{1}{2} m_2 \\dot{y}^2 + \\frac{1}{2} I \\omega^2 + m_1 g x + m_2 g y = \\frac{1}{2} m_1 \\dot{x}^2 + \\frac{1}{2} m_2 \\dot{x}^2 + \\frac{1}{2} \\left( \\frac{I}{R^2} \\right) \\dot{x}^2 + m_1 g x + m_2 g (l - x)$ <br><br> $\\Rightarrow \\mathscr{L} = \\frac{1}{2} \\big[ m_1 + m_2 + \\frac{I}{R^2} \\big] \\dot{x}^2 + g ( m_1 - m_2) x$. The constant $l$ that appears in $U$ can be ignored.<br><br>  E-L gives: $ \\boxed{ \\ddot{x} = g \\left( \\frac{m_1 - m_2}{ m_1 + m_2 + \\frac{I}{R^2} } \\right)}$, indicating a downward acceleration for $m_1$ smaller than gravity, which is what we expect: the gravitational pull on $m_2$ and angular inertia of the pulley should both act to slow $m_1$. <br><br>  An interesting limit to consider: $\\lim_{m_1 \\rightarrow \\infty} \\ddot{x} = g$, i.e. for very large $m_1$, the gravitational pull on $m_2$ and angular inertia of the pulley are unimportant. "
   ]
  },
  {
   "cell_type": "markdown",
   "metadata": {},
   "source": [
    "#### 7.34"
   ]
  },
  {
   "cell_type": "markdown",
   "metadata": {},
   "source": [
    "(a) Take the spring length to be $L$. We need to figure out the relationship between the velocity $\\dot{x}_\\mathrm{s}$ of a tiny length $dx_\\mathrm{s}$ of the spring and the distance $x_\\mathrm{s}$ of that length from the end of the spring fixed to the wall. Keep in mind $x_\\mathrm{s}$ represents only distances measured from the fixed end of the spring, NOT the position of the free end of the spring $x$. <br><br>  Since the fixed end of the spring is fixed, we require $\\dot{x}_\\mathrm{s}(x_\\mathrm{s} = 0) = $. The free end of the spring moves with velocity $\\dot{x}_\\mathrm{s}(x_\\mathrm{s} = x) = \\dot{x}$. The requirement for uniform stretching suggest a linear relationship between $\\dot{x}_\\mathrm{s}$ and $x_\\mathrm{s}$, and with the above boundary conditions, we have $\\dot{x}_\\mathrm{s} = \\dot{x} \\left( \\frac{x_\\mathrm{s}}{L} \\right)$.<br><br>  The kinetic energy of each tiny length is $dT = \\frac{1}{2} dm\\ \\dot{x}_\\mathrm{s}^2$, so the whole spring's kinetic energy is the related integral, where $dm$ is the mass of the tiny length and $dm = \\frac{M}{L} dx_\\mathrm{s}$. So $T = \\int \\frac{1}{2} dm\\ \\dot{x}_\\mathrm{s}^2 = \\frac{1}{2} \\frac{M}{L} \\dot{x}^2 \\int_{x_\\mathrm{s} = 0}^{L} \\left( \\frac{x_\\mathrm{s}}{L} \\right)^2 dx_\\mathrm{s} = \\boxed{ \\frac{1}{6} M \\dot{x}^2 }$. The factor $\\frac{1}{3}$ comes in because the entire spring is not in motion. <br><br>  Including the cart, the Lagrangian for the system is now $\\mathscr{L} = \\frac{1}{2} m \\dot{x}^2 + \\frac{1}{6} M \\dot{x}^2 - \\frac{1}{2} k x^2$."
   ]
  },
  {
   "cell_type": "markdown",
   "metadata": {},
   "source": [
    "(b) Applying E-L: $\\left( m + \\frac{1}{3} M \\right) \\ddot{x} = -k x \\Rightarrow \\boxed{ \\omega_0 = \\sqrt{\\frac{k}{m + M/3}} }$."
   ]
  },
  {
   "cell_type": "markdown",
   "metadata": {},
   "source": [
    "#### 7.36 "
   ]
  },
  {
   "cell_type": "markdown",
   "metadata": {},
   "source": [
    "$\\mathscr{L} = T - U = \\frac{1}{2} m \\left( \\dot{r}^2 + \\left( l_{\\rm 0} + r \\right)^2 \\dot{\\theta}^2 \\right) - m g \\left[ l_{\\rm 0} \\left( 1 - \\cos \\theta \\right) - r \\cos \\theta \\right] - \\frac{1}{2} m \\omega_{\\rm 0}^2 r^2$<br>\n",
    "$$\n",
    "\\dfrac{d}{dt} \\left(\\dfrac{\\partial \\mathscr{L}}{\\partial \\dot{r}}\\right) = \\dfrac{\\partial \\mathscr{L}}{\\partial r} \\rightarrow m \\ddot{r} = m \\left( l_{\\rm 0} + r \\right) \\dot{\\theta}^2 + mg \\cos \\theta - m \\omega_{\\rm 0}^2 r,\\ {\\rm and} \\\\\n",
    "\\dfrac{d}{dt} \\left(\\dfrac{\\partial \\mathscr{L}}{\\partial \\dot{\\theta}}\\right) = \\dfrac{\\partial \\mathscr{L}}{\\partial \\theta} \\rightarrow m \\left( 2 \\left( l_{\\rm 0} + r \\right) \\dot{r} \\dot{\\theta} + \\left( l_{\\rm 0} + r \\right)^2 \\ddot{\\theta} \\right) = -m g \\left( l_{\\rm 0} + r \\right) \\sin \\theta.\n",
    "$$"
   ]
  },
  {
   "cell_type": "markdown",
   "metadata": {},
   "source": [
    "In the limit described for the above dynamical equations, $\\dot{\\theta}^2 \\approx 0$, $\\dot{r} \\dot{\\theta} \\approx 0$, $\\cos \\theta \\approx 1$, $\\sin \\theta \\approx \\theta$, and $r \\sin \\theta \\approx r \\theta \\approx 0$.<br>\n",
    "\n",
    "$$\n",
    "\\ddot{r} \\approx g - \\omega_{\\rm 0}^2 r,\\ {\\rm and}\\\\\n",
    "\\ddot{\\theta} \\approx -g \\left( l_{\\rm 0} + r \\right)^{-1} \\theta \\approx -\\dfrac{g}{l_{\\rm 0}} \\left(1 - r/l_{\\rm 0} \\right) \\theta \\approx -\\dfrac{g}{l_{\\rm 0}} \\theta.\n",
    "$$"
   ]
  },
  {
   "cell_type": "markdown",
   "metadata": {},
   "source": [
    "#### 7.41"
   ]
  },
  {
   "cell_type": "markdown",
   "metadata": {},
   "source": [
    "The bead executes motion in three dimensions ($\\rho$, $z$, and $\\phi$), giving three velocities $\\dot{\\rho}$, $\\dot{z}$, and $\\rho \\omega$. Thus, $T = \\frac{1}{2} m \\left( \\dot{\\rho}^2 + \\dot{z}^2 + \\rho^2\\omega^2 \\right)$. However, the bead is constrained to move along the wire such that $z = k \\rho^2$, so $\\dot{z} = 2 k \\rho \\dot{\\rho}$. Thus, $T = \\frac{1}{2} m \\left( \\dot{\\rho}^2 + \\left( 2 k \\rho \\dot{\\rho} \\right)^2 + \\rho^2\\omega^2 \\right)$. The potential energy $U = m g z = m g k \\rho^2$, giving $\\boxed{ \\mathscr{L} = \\frac{1}{2} m \\left( \\dot{\\rho}^2 + \\left( 2 k \\rho \\dot{\\rho} \\right)^2 + \\rho^2\\omega^2 \\right) - m g k \\rho^2 }$. <br><br>  Applying E-L and doing some algebra gives $ \\left( 4 k^2 \\rho^2 + 1 \\right) \\ddot{\\rho} = -\\left( 2 g k + 4 k^2 \\dot{\\rho}^2 - \\omega^2 \\right) \\rho $ <br><br>  Stability requires that small displacements or velocities from equilibrium result in accelerations back toward the equilibrium. $\\rho = 0$ seems an obvious point of equilibrium since there $\\ddot{\\rho} = 0$. Any other value of $\\rho$ would result in a non-zero $\\ddot{\\rho}$ in general. So take $\\rho = \\delta \\rho$ and $\\dot{\\rho} = \\delta \\dot{\\rho}$, and $\\delta \\rho$, $\\delta \\dot{\\rho} \\ll 1$.<br><br>  Taking only the leading order terms in the E-L equation gives $\\ddot{\\rho} \\approx -\\left( 2 g k - \\omega^2 \\right) \\rho$, so equilibrium requires the term in parentheses on the right hand side is positive, i.e. $\\boxed{ 2 g k \\ge \\omega^2 }$. The corresponding natural frequency of the system is $\\omega_0 = \\sqrt{ 2 g k - \\omega^2 }$."
   ]
  }
 ],
 "metadata": {
  "kernelspec": {
   "display_name": "Python 2",
   "language": "python",
   "name": "python2"
  },
  "language_info": {
   "codemirror_mode": {
    "name": "ipython",
    "version": 2
   },
   "file_extension": ".py",
   "mimetype": "text/x-python",
   "name": "python",
   "nbconvert_exporter": "python",
   "pygments_lexer": "ipython2",
   "version": "2.7.3"
  }
 },
 "nbformat": 4,
 "nbformat_minor": 1
}
